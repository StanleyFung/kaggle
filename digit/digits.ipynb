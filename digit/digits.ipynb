{
 "cells": [
  {
   "cell_type": "code",
   "execution_count": 1,
   "metadata": {},
   "outputs": [],
   "source": [
    "import sys\n",
    "import os\n",
    "scriptpath = \"../DeepNeuralNet/\"\n",
    "sys.path.append(os.path.abspath(scriptpath))\n",
    "import DNN_model as dnn\n",
    "import math\n",
    "import pandas as pd\n",
    "import numpy as np\n",
    "import re\n",
    "import sklearn.preprocessing as preprocessing"
   ]
  },
  {
   "cell_type": "code",
   "execution_count": 2,
   "metadata": {},
   "outputs": [],
   "source": [
    "data = pd.read_csv('train.csv')\n",
    "test = pd.read_csv('test.csv')"
   ]
  },
  {
   "cell_type": "code",
   "execution_count": 3,
   "metadata": {},
   "outputs": [
    {
     "name": "stdout",
     "output_type": "stream",
     "text": [
      "Classification: 10\n",
      "(42000, 785)\n",
      "(28000, 784)\n"
     ]
    }
   ],
   "source": [
    "label = 'label'\n",
    "c = len(set(data.label))\n",
    "isBinary = c <= 2\n",
    "print \"Classification: \" + str(c)\n",
    "print data.shape\n",
    "print test.shape"
   ]
  },
  {
   "cell_type": "code",
   "execution_count": null,
   "metadata": {},
   "outputs": [],
   "source": [
    "#Normalize data\n",
    "def normalize(df):\n",
    "    withoutLabel = df.drop(label, axis = 1)\n",
    "    withoutLabel = withoutLabel / 255\n",
    "    withoutLabel[label] = df[label]\n",
    "    df = withoutLabel\n",
    "    return df\n",
    "\n",
    "data = normalize(data)\n",
    "(testFormatted, _) = dnn.format_dataframe_for_training(test, None, None) \n",
    "testFormatted = testFormatted / 255"
   ]
  },
  {
   "cell_type": "code",
   "execution_count": null,
   "metadata": {},
   "outputs": [
    {
     "name": "stdout",
     "output_type": "stream",
     "text": [
      "(784, 33600)\n",
      "(10, 33600)\n",
      "(784, 8400)\n",
      "(10, 8400)\n",
      "10-class classification neural network with hyperparameters:\n",
      "layer_dims: [25, 12, 5, 10] keep_prob: 0.8 learning_rate: 0.0003 num_epochs: 100 minibatch_size: 2048\n",
      "Training underway...\n",
      "Cost after epoch 0: 2.420039\n",
      "Cost after epoch 20: 1.704082\n",
      "Cost after epoch 40: 1.425203\n"
     ]
    }
   ],
   "source": [
    "# use learning rate below 0.001 else cost starts to skyrocket to infinity\n",
    "bundle = dnn.create_hyperparameter_bundle(layer_dims=[25, 12, 5, c], learning_rate=0.0003, num_epochs=100, keep_prob=0.8, minibatch_size= 2048)\n",
    "model = dnn.train_with_hyperparameter_bundle(data, label, bundle, print_summary=True, split_percent=0.8)"
   ]
  },
  {
   "cell_type": "code",
   "execution_count": null,
   "metadata": {},
   "outputs": [],
   "source": [
    "param = model[dnn.KEY_PARAMETERS]\n",
    "prediction = dnn.predict(testFormatted, param, isBinary)\n",
    "print prediction\n",
    "print sum(prediction)"
   ]
  },
  {
   "cell_type": "code",
   "execution_count": null,
   "metadata": {},
   "outputs": [],
   "source": []
  },
  {
   "cell_type": "code",
   "execution_count": null,
   "metadata": {},
   "outputs": [],
   "source": []
  }
 ],
 "metadata": {
  "kernelspec": {
   "display_name": "Python 2",
   "language": "python",
   "name": "python2"
  },
  "language_info": {
   "codemirror_mode": {
    "name": "ipython",
    "version": 2
   },
   "file_extension": ".py",
   "mimetype": "text/x-python",
   "name": "python",
   "nbconvert_exporter": "python",
   "pygments_lexer": "ipython2",
   "version": "2.7.13"
  }
 },
 "nbformat": 4,
 "nbformat_minor": 2
}
