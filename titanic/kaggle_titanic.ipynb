{
 "cells": [
  {
   "cell_type": "code",
   "execution_count": 1,
   "metadata": {},
   "outputs": [],
   "source": [
    "import sys\n",
    "import os\n",
    "scriptpath = \"../DeepNeuralNet/\"\n",
    "sys.path.append(os.path.abspath(scriptpath))\n",
    "import DNN_model as dnn\n",
    "import math\n",
    "import pandas as pd\n",
    "import numpy as np\n",
    "import re\n",
    "import sklearn.preprocessing as preprocessing\n",
    "from sklearn.preprocessing import LabelEncoder\n",
    "from sklearn.preprocessing import MinMaxScaler"
   ]
  },
  {
   "cell_type": "code",
   "execution_count": 2,
   "metadata": {},
   "outputs": [],
   "source": [
    "def transformDataForModel(train):            \n",
    "    train = train.drop('Name', axis = 1).drop('PassengerId', axis = 1).drop('Ticket', axis = 1)\n",
    "    \n",
    "    train['Age'] = train['Age'].fillna(0.0)                 \n",
    "    malesAge = (train[(train['Sex'] == 'male') & (train['Age'] > 0)])['Age']\n",
    "    femalesAge = (train[(train['Sex'] == 'female') & (train['Age'] > 0)])['Age']\n",
    "    \n",
    "    def fillInMedian(x, malesAge, femalesAge):\n",
    "        if x['Sex'] == 'male' and x['Age'] == 0: \n",
    "            return malesAge.median()\n",
    "        elif x['Sex'] == 'female' and x['Age'] == 0:\n",
    "            return femalesAge.median()\n",
    "        else:\n",
    "            return x['Age']\n",
    "\n",
    "    train['Age'] = train[['Sex','Age']].apply(lambda x: fillInMedian(x, malesAge, femalesAge), axis = 1)        \n",
    "    \n",
    "    # normalize Age\n",
    "#     train['Age'] = train['Age'] / train['Age'].max()\n",
    "    \n",
    "    #normalize fare\n",
    "#     train['Fare'] = train['Fare'] / train['Fare'].max()\n",
    "    \n",
    "    convertSexToNumeric = lambda x: 0 if x == \"male\" else 1\n",
    "    train['Sex'] = df['Sex'].apply(convertSexToNumeric)\n",
    "\n",
    "    train['Embarked'] = train['Embarked'].fillna('')\n",
    "    enc = LabelEncoder()\n",
    "    enc.fit(train['Embarked'])\n",
    "    train['Embarked'] = enc.transform(train['Embarked'])    \n",
    "    \n",
    "    train[\"Cabin\"] = train['Cabin'].fillna('')\n",
    "\n",
    "    def findBaseCabin(x):    \n",
    "        res = re.search('[a-zA-Z]', x)\n",
    "        if res is not None:\n",
    "            return res.group(0)\n",
    "        else:\n",
    "            return ''\n",
    "\n",
    "    train[\"Cabin\"] = train[\"Cabin\"].apply(lambda x: findBaseCabin(x))\n",
    "    enc.fit(train['Cabin'])\n",
    "    train['Cabin'] = enc.transform(train['Cabin'])\n",
    "\n",
    "    train['Family_Size'] = train['SibSp']+train['Parch'] + 1\n",
    "    train = train.drop('SibSp', axis = 1).drop('Parch', axis = 1).drop('Embarked', axis = 1)\n",
    "    return train"
   ]
  },
  {
   "cell_type": "code",
   "execution_count": 3,
   "metadata": {
    "scrolled": true
   },
   "outputs": [
    {
     "name": "stdout",
     "output_type": "stream",
     "text": [
      "     Survived  Pclass  Sex   Age      Fare  Cabin  Family_Size\n",
      "0           0       3    0  22.0    7.2500      0            2\n",
      "1           1       1    1  38.0   71.2833      3            2\n",
      "2           1       3    1  26.0    7.9250      0            1\n",
      "3           1       1    1  35.0   53.1000      3            2\n",
      "4           0       3    0  35.0    8.0500      0            1\n",
      "5           0       3    0  29.0    8.4583      0            1\n",
      "6           0       1    0  54.0   51.8625      5            1\n",
      "7           0       3    0   2.0   21.0750      0            5\n",
      "8           1       3    1  27.0   11.1333      0            3\n",
      "9           1       2    1  14.0   30.0708      0            2\n",
      "10          1       3    1   4.0   16.7000      7            3\n",
      "11          1       1    1  58.0   26.5500      3            1\n",
      "12          0       3    0  20.0    8.0500      0            1\n",
      "13          0       3    0  39.0   31.2750      0            7\n",
      "14          0       3    1  14.0    7.8542      0            1\n",
      "15          1       2    1  55.0   16.0000      0            1\n",
      "16          0       3    0   2.0   29.1250      0            6\n",
      "17          1       2    0  29.0   13.0000      0            1\n",
      "18          0       3    1  31.0   18.0000      0            2\n",
      "19          1       3    1  27.0    7.2250      0            1\n",
      "20          0       2    0  35.0   26.0000      0            1\n",
      "21          1       2    0  34.0   13.0000      4            1\n",
      "22          1       3    1  15.0    8.0292      0            1\n",
      "23          1       1    0  28.0   35.5000      1            1\n",
      "24          0       3    1   8.0   21.0750      0            5\n",
      "25          1       3    1  38.0   31.3875      0            7\n",
      "26          0       3    0  29.0    7.2250      0            1\n",
      "27          0       1    0  19.0  263.0000      3            6\n",
      "28          1       3    1  27.0    7.8792      0            1\n",
      "29          0       3    0  29.0    7.8958      0            1\n",
      "..        ...     ...  ...   ...       ...    ...          ...\n",
      "861         0       2    0  21.0   11.5000      0            2\n",
      "862         1       1    1  48.0   25.9292      4            1\n",
      "863         0       3    1  27.0   69.5500      0           11\n",
      "864         0       2    0  24.0   13.0000      0            1\n",
      "865         1       2    1  42.0   13.0000      0            1\n",
      "866         1       2    1  27.0   13.8583      0            2\n",
      "867         0       1    0  31.0   50.4958      1            1\n",
      "868         0       3    0  29.0    9.5000      0            1\n",
      "869         1       3    0   4.0   11.1333      0            3\n",
      "870         0       3    0  26.0    7.8958      0            1\n",
      "871         1       1    1  47.0   52.5542      4            3\n",
      "872         0       1    0  33.0    5.0000      2            1\n",
      "873         0       3    0  47.0    9.0000      0            1\n",
      "874         1       2    1  28.0   24.0000      0            2\n",
      "875         1       3    1  15.0    7.2250      0            1\n",
      "876         0       3    0  20.0    9.8458      0            1\n",
      "877         0       3    0  19.0    7.8958      0            1\n",
      "878         0       3    0  29.0    7.8958      0            1\n",
      "879         1       1    1  56.0   83.1583      3            2\n",
      "880         1       2    1  25.0   26.0000      0            2\n",
      "881         0       3    0  33.0    7.8958      0            1\n",
      "882         0       3    1  22.0   10.5167      0            1\n",
      "883         0       2    0  28.0   10.5000      0            1\n",
      "884         0       3    0  25.0    7.0500      0            1\n",
      "885         0       3    1  39.0   29.1250      0            6\n",
      "886         0       2    0  27.0   13.0000      0            1\n",
      "887         1       1    1  19.0   30.0000      2            1\n",
      "888         0       3    1  27.0   23.4500      0            4\n",
      "889         1       1    0  26.0   30.0000      3            1\n",
      "890         0       3    0  32.0    7.7500      0            1\n",
      "\n",
      "[891 rows x 7 columns]\n"
     ]
    }
   ],
   "source": [
    "df = pd.read_csv('kaggle_titanic_data/train.csv')\n",
    "df_submission = pd.read_csv('kaggle_titanic_data/test.csv')\n",
    "df = transformDataForModel(df)\n",
    "m = len(df)\n",
    "submission = transformDataForModel(df_submission)\n",
    "submission = submission.T.values \n",
    "label = 'Survived'\n",
    "print df"
   ]
  },
  {
   "cell_type": "code",
   "execution_count": 14,
   "metadata": {},
   "outputs": [
    {
     "name": "stdout",
     "output_type": "stream",
     "text": [
      "Binary classification neural network with hyperparameters:\n",
      "layer_dims: [3, 1] keep_prob: 0.7 learning_rate: 0.01 num_epochs: 1000 minibatch_size: 1000\n",
      "Training underway...\n",
      "Cost after epoch 0: 7.114737\n",
      "Cost after epoch 500: 0.617034\n"
     ]
    },
    {
     "data": {
      "image/png": "[encoded data removed]",
      "text/plain": [
       "<matplotlib.figure.Figure at 0x11a6ddf10>"
      ]
     },
     "metadata": {},
     "output_type": "display_data"
    },
    {
     "name": "stdout",
     "output_type": "stream",
     "text": [
      "train_accuracy : 0.791667\n",
      "test_accuracy : 0.794007\n",
      "precision : 0.847133757962\n",
      "recall : 0.810975609756\n",
      "f1score : 0.828660436137\n",
      "Done training!\n",
      "\n",
      "\n",
      "50/ 418 survived\n"
     ]
    }
   ],
   "source": [
    "bundle = dnn.create_hyperparameter_bundle(layer_dims=[3,1], learning_rate=0.01, num_epochs=1000, keep_prob=0.7, minibatch_size=1000)\n",
    "model = dnn.train_with_hyperparameter_bundle(df, label, bundle)\n",
    "param = model[dnn.KEY_PARAMETERS]\n",
    "prediction = dnn.predict(submission, param, True)\n",
    "prediction = map(lambda x: int(x), prediction)\n",
    "ones = sum(prediction)\n",
    "print str(ones) + \"/ \" + str(submission.shape[1]) + \" survived\""
   ]
  },
  {
   "cell_type": "code",
   "execution_count": 5,
   "metadata": {},
   "outputs": [],
   "source": [
    "# print_summary = True\n",
    "# trials = [\n",
    "#     dnn.create_hyperparameter_bundle(layer_dims=[5, 3, 1], learning_rate=0.0005, num_epochs=5000, keep_prob=1.0, minibatch_size=32)\n",
    "# #     dnn.create_hyperparameter_bundle(layer_dims=[1], learning_rate=0.05, num_epochs=500, keep_prob=1.0, minibatch_size=258),\n",
    "# #     dnn.create_hyperparameter_bundle(layer_dims=[1], learning_rate=0.1, num_epochs=500, keep_prob=1.0, minibatch_size=258)\n",
    "# ]\n",
    "\n",
    "\n",
    "# best_accuracy = 0\n",
    "# model = None\n",
    "\n",
    "# for hyperparams in trials:    \n",
    "#     res = dnn.kfold(df, label, hyperparams, k = 5, print_summary=print_summary)\n",
    "#     acc = res[dnn.KEY_AVERAGE_ACCURACY]\n",
    "#     if acc > best_accuracy:\n",
    "#         best_accuracy = acc\n",
    "#         model = res[dnn.KEY_BEST_MODEL]"
   ]
  },
  {
   "cell_type": "code",
   "execution_count": 15,
   "metadata": {},
   "outputs": [],
   "source": [
    "numSubmission = 10\n",
    "df_submission['Survived'] = prediction\n",
    "final = df_submission[['PassengerId','Survived']]\n",
    "final.to_csv(\"submissions/submission_\" + str(numSubmission) + \".csv\", index=False, encoding='utf-8')"
   ]
  },
  {
   "cell_type": "code",
   "execution_count": 7,
   "metadata": {},
   "outputs": [],
   "source": [
    "# dfsubmis = pd.read_csv('submissions/submission_8.csv')\n",
    "# print sum(dfsubmis[label])"
   ]
  }
 ],
 "metadata": {
  "kernelspec": {
   "display_name": "Python 2",
   "language": "python",
   "name": "python2"
  },
  "language_info": {
   "codemirror_mode": {
    "name": "ipython",
    "version": 2
   },
   "file_extension": ".py",
   "mimetype": "text/x-python",
   "name": "python",
   "nbconvert_exporter": "python",
   "pygments_lexer": "ipython2",
   "version": "2.7.13"
  }
 },
 "nbformat": 4,
 "nbformat_minor": 2
}
